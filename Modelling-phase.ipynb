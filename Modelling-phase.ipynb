{
 "cells": [
  {
   "cell_type": "code",
   "execution_count": null,
   "id": "02eb0be6",
   "metadata": {},
   "outputs": [],
   "source": [
    "import pandas as pd\n",
    "import numpy as np"
   ]
  },
  {
   "cell_type": "code",
   "execution_count": null,
   "id": "d22bf847",
   "metadata": {},
   "outputs": [],
   "source": [
    "df=pd.read_csv('Final_df.csv')\n",
    "df.head()"
   ]
  },
  {
   "cell_type": "code",
   "execution_count": null,
   "id": "d364f929",
   "metadata": {},
   "outputs": [],
   "source": [
    "df.info()"
   ]
  },
  {
   "cell_type": "code",
   "execution_count": null,
   "id": "17ea0889",
   "metadata": {},
   "outputs": [],
   "source": [
    "df.drop_duplicates(inplace=True)"
   ]
  },
  {
   "cell_type": "code",
   "execution_count": null,
   "id": "109de937",
   "metadata": {},
   "outputs": [],
   "source": [
    "df=df.sort_values(by=['user_id'])"
   ]
  },
  {
   "cell_type": "code",
   "execution_count": null,
   "id": "73caf220",
   "metadata": {},
   "outputs": [],
   "source": [
    "#Feature Engineering"
   ]
  },
  {
   "cell_type": "code",
   "execution_count": null,
   "id": "f9d92915",
   "metadata": {},
   "outputs": [],
   "source": [
    "orders_grouped=df.groupby(by=['order_id'],as_index=False).agg({'product_id':'count'})\n",
    "orders_grouped"
   ]
  },
  {
   "cell_type": "code",
   "execution_count": null,
   "id": "1d3f199d",
   "metadata": {},
   "outputs": [],
   "source": [
    "orders_grouped.rename(columns={'product_id':'order_size'},inplace=True)\n",
    "orders_grouped"
   ]
  },
  {
   "cell_type": "code",
   "execution_count": null,
   "id": "612fb1a2",
   "metadata": {},
   "outputs": [],
   "source": [
    "df=pd.merge(df,orders_grouped,how='left',on=['order_id'])\n",
    "df"
   ]
  },
  {
   "cell_type": "code",
   "execution_count": null,
   "id": "962ce1e7",
   "metadata": {},
   "outputs": [],
   "source": [
    "df['cart_priority'] = 1 - df['add_to_cart_order']/(df['order_size']+1)\n",
    "df"
   ]
  },
  {
   "cell_type": "code",
   "execution_count": null,
   "id": "88ba7feb",
   "metadata": {},
   "outputs": [],
   "source": [
    "avg_sizes = df[['user_id','order_size']].groupby(['user_id']).mean().reset_index()\n",
    "avg_sizes.rename(columns={\"order_size\":\"avg_order_size\"}, inplace=True)\n",
    "avg_sizes.head()"
   ]
  },
  {
   "cell_type": "code",
   "execution_count": null,
   "id": "2e301e20",
   "metadata": {},
   "outputs": [],
   "source": [
    "df=pd.merge(df,avg_sizes,on=['user_id'],how='left')\n",
    "df"
   ]
  },
  {
   "cell_type": "code",
   "execution_count": null,
   "id": "93dfa58f",
   "metadata": {},
   "outputs": [],
   "source": [
    "users=df.groupby(by=['user_id'],as_index=False).agg({'days_since_prior_order':'mean'})\n",
    "users.rename(columns={'days_since_prior_order':'avg_interval_between_2_orders'},inplace=True)\n",
    "users"
   ]
  },
  {
   "cell_type": "code",
   "execution_count": null,
   "id": "ce4a52c2",
   "metadata": {},
   "outputs": [],
   "source": [
    "df=pd.merge(df,users,on=['user_id'],how='left')\n",
    "df"
   ]
  },
  {
   "cell_type": "code",
   "execution_count": null,
   "id": "a3a86f34",
   "metadata": {},
   "outputs": [],
   "source": [
    "products=df.groupby(by=['product_id'],as_index=False).agg({'reordered':'sum','product_name':'count'})\n",
    "products"
   ]
  },
  {
   "cell_type": "code",
   "execution_count": null,
   "id": "23f51f69",
   "metadata": {},
   "outputs": [],
   "source": [
    "products.rename(columns={'reordered':'product_reordered','product_name':'product_orders'},inplace=True)\n",
    "products"
   ]
  },
  {
   "cell_type": "code",
   "execution_count": null,
   "id": "0dc7128c",
   "metadata": {},
   "outputs": [],
   "source": [
    "products['product_reorder_ratio']=products['product_reordered']/products['product_orders']\n",
    "products"
   ]
  },
  {
   "cell_type": "code",
   "execution_count": null,
   "id": "206969fd",
   "metadata": {},
   "outputs": [],
   "source": [
    "products=products[['product_id','product_reorder_ratio']]\n",
    "products"
   ]
  },
  {
   "cell_type": "code",
   "execution_count": null,
   "id": "04b32e48",
   "metadata": {},
   "outputs": [],
   "source": [
    "df=pd.merge(df,products,on=['product_id'],how='left')\n",
    "df"
   ]
  },
  {
   "cell_type": "code",
   "execution_count": null,
   "id": "778e3490",
   "metadata": {},
   "outputs": [],
   "source": [
    "df['order_number']=df.groupby(by=['user_id'])['order_id'].rank()\n",
    "df['order_number']"
   ]
  },
  {
   "cell_type": "code",
   "execution_count": null,
   "id": "0b825dae",
   "metadata": {},
   "outputs": [],
   "source": [
    "lastProdOrders = df.groupby([\"user_id\",\"product_id\"]).agg({'order_number':'max'}).reset_index()\n",
    "lastProdOrders = lastProdOrders.merge(df, on=['user_id','product_id', 'order_number'], how='left')\n",
    "print(len(lastProdOrders))\n",
    "lastProdOrders.head()"
   ]
  },
  {
   "cell_type": "code",
   "execution_count": null,
   "id": "d9cbcb12",
   "metadata": {},
   "outputs": [],
   "source": [
    "lastProdOrders.shape"
   ]
  },
  {
   "cell_type": "code",
   "execution_count": null,
   "id": "a17a37bb",
   "metadata": {},
   "outputs": [],
   "source": [
    "features=pd.get_dummies(lastProdOrders,columns=['department_id','aisle_id'])\n",
    "features"
   ]
  },
  {
   "cell_type": "code",
   "execution_count": null,
   "id": "fffb19e0",
   "metadata": {},
   "outputs": [],
   "source": [
    "features.drop(columns=['aisle','department','eval_set','product_name','reorder_ratio','COUNTER','add_to_cart_order'],inplace=True)"
   ]
  },
  {
   "cell_type": "code",
   "execution_count": null,
   "id": "5541fa52",
   "metadata": {},
   "outputs": [],
   "source": [
    "X=features.drop(columns=['reordered','order_id','user_id','product_id'])\n",
    "X"
   ]
  },
  {
   "cell_type": "code",
   "execution_count": null,
   "id": "c378631d",
   "metadata": {},
   "outputs": [],
   "source": [
    "y=features['reordered']"
   ]
  },
  {
   "cell_type": "code",
   "execution_count": null,
   "id": "450a2622",
   "metadata": {},
   "outputs": [],
   "source": [
    "from sklearn.model_selection import train_test_split\n",
    "x_train,x_test,y_train,y_test=train_test_split(X,y,test_size=0.25)"
   ]
  },
  {
   "cell_type": "code",
   "execution_count": null,
   "id": "1d50ec84",
   "metadata": {},
   "outputs": [],
   "source": [
    "#grid search logistic Regression"
   ]
  },
  {
   "cell_type": "code",
   "execution_count": null,
   "id": "f0b50e94",
   "metadata": {},
   "outputs": [],
   "source": [
    "param_grid = {\n",
    "     'penalty' : ['l1', 'l2'],\n",
    "     'C' : [0.001,0.01,0.1,1.0,10,100,1000]}"
   ]
  },
  {
   "cell_type": "code",
   "execution_count": null,
   "id": "538cad93",
   "metadata": {},
   "outputs": [],
   "source": [
    "from sklearn.linear_model import LogisticRegression\n",
    "from sklearn.model_selection import GridSearchCV\n",
    "search = GridSearchCV(LogisticRegression(), param_grid, scoring='accuracy', n_jobs=-1, cv=3,verbose=2)\n",
    "result = search.fit(x_train, y_train)\n",
    "\n",
    "print('Best Score: %s' % result.best_score_)\n",
    "print('Best Hyperparameters: %s' % result.best_params_)"
   ]
  },
  {
   "cell_type": "code",
   "execution_count": null,
   "id": "6ee75a00",
   "metadata": {},
   "outputs": [],
   "source": [
    "from sklearn.metrics import accuracy_score\n",
    "metrics_df=pd.DataFrame()\n",
    "log_preds=search.predict(x_test)\n",
    "log_preds_train=search.predict(x_train)\n",
    "accuracy_log=accuracy_score(log_preds,y_test)\n",
    "accuracy_train=accuracy_score(log_preds_train,y_train)\n",
    "metrics_df['Model']='logistic Regression'\n",
    "metrics_df['train_accuracy']=accuracy_train\n",
    "metrics_df['test_accuracy']=accuracy_log"
   ]
  },
  {
   "cell_type": "code",
   "execution_count": null,
   "id": "fa797d51",
   "metadata": {},
   "outputs": [],
   "source": [
    "accuracy_log"
   ]
  },
  {
   "cell_type": "code",
   "execution_count": null,
   "id": "28da41aa",
   "metadata": {},
   "outputs": [],
   "source": [
    "from sklearn.metrics import classification_report\n",
    "target_names = ['class 0', 'class 1']\n",
    "print(classification_report(y_test, log_preds, target_names=target_names))"
   ]
  },
  {
   "cell_type": "markdown",
   "id": "5a84f15b",
   "metadata": {},
   "source": [
    "## Roc Curve"
   ]
  },
  {
   "cell_type": "code",
   "execution_count": null,
   "id": "3177510d",
   "metadata": {},
   "outputs": [],
   "source": [
    "\n",
    "from sklearn.metrics import roc_curve\n",
    "from sklearn.metrics import roc_auc_score\n",
    "from matplotlib import pyplot"
   ]
  },
  {
   "cell_type": "code",
   "execution_count": null,
   "id": "25f58bff",
   "metadata": {},
   "outputs": [],
   "source": [
    "ns_probs = [0 for _ in range(len(y_test))]\n",
    "lr_probs = search.predict_proba(x_test)\n",
    "# keep probabilities for the positive outcome only\n",
    "lr_probs = lr_probs[:, 1]\n",
    "# calculate scores\n",
    "ns_auc = roc_auc_score(y_test, ns_probs)\n",
    "lr_auc = roc_auc_score(y_test, lr_probs)\n",
    "# summarize scores\n",
    "print('No Skill: ROC AUC=%.3f' % (ns_auc))\n",
    "print('Logistic: ROC AUC=%.3f' % (lr_auc))\n",
    "# calculate roc curves\n",
    "ns_fpr, ns_tpr, _ = roc_curve(y_test, ns_probs)\n",
    "lr_fpr, lr_tpr, _ = roc_curve(y_test, lr_probs)"
   ]
  },
  {
   "cell_type": "code",
   "execution_count": null,
   "id": "49c16fe5",
   "metadata": {},
   "outputs": [],
   "source": [
    "pyplot.plot(ns_fpr, ns_tpr, linestyle='--', label='No Skill')\n",
    "pyplot.plot(lr_fpr, lr_tpr, marker='.', label='Logistic')\n",
    "# axis labels\n",
    "pyplot.xlabel('False Positive Rate')\n",
    "pyplot.ylabel('True Positive Rate')\n",
    "# show the legend\n",
    "pyplot.legend()\n",
    "# show the plot\n",
    "pyplot.show()"
   ]
  },
  {
   "cell_type": "code",
   "execution_count": null,
   "id": "365bbd4a",
   "metadata": {},
   "outputs": [],
   "source": [
    "!pip install xgboost"
   ]
  },
  {
   "cell_type": "code",
   "execution_count": null,
   "id": "efb28f3b",
   "metadata": {},
   "outputs": [],
   "source": [
    "# grid search xgb\n",
    "params = {\n",
    "        'min_child_weight': [1, 5, 10],\n",
    "        'gamma': [0.5, 1, 1.5, 2, 5],\n",
    "        'subsample': [0.6, 0.8, 1.0],\n",
    "        'colsample_bytree': [0.6, 0.8, 1.0],\n",
    "        'max_depth': [3, 4, 5]\n",
    "        }"
   ]
  },
  {
   "cell_type": "code",
   "execution_count": null,
   "id": "e54a9bd8",
   "metadata": {},
   "outputs": [],
   "source": [
    "import xgboost as xgb\n",
    "xgb = xgb.XGBClassifier(n_estimators=100, learning_rate=0.05, nthread=-1)"
   ]
  },
  {
   "cell_type": "code",
   "execution_count": null,
   "id": "a2fc05b8",
   "metadata": {},
   "outputs": [],
   "source": [
    "from sklearn.model_selection import RandomizedSearchCV, GridSearchCV\n",
    "from sklearn.metrics import roc_auc_score\n",
    "from sklearn.model_selection import StratifiedKFold\n",
    "\n",
    "folds = 3\n",
    "param_comb = 5\n",
    "\n",
    "skf = StratifiedKFold(n_splits=folds, shuffle = True, random_state = 1001)\n",
    "\n",
    "random_search = RandomizedSearchCV(xgb, param_distributions=params, n_iter=param_comb, n_jobs=4, cv=skf.split(x_train,y_train), verbose=3, random_state=42)"
   ]
  },
  {
   "cell_type": "code",
   "execution_count": null,
   "id": "852763b3",
   "metadata": {},
   "outputs": [],
   "source": [
    "random_search.fit(x_train, y_train)"
   ]
  },
  {
   "cell_type": "code",
   "execution_count": null,
   "id": "4664fbec",
   "metadata": {},
   "outputs": [],
   "source": [
    "random_search.best_estimator_"
   ]
  },
  {
   "cell_type": "code",
   "execution_count": null,
   "id": "3e6573de",
   "metadata": {},
   "outputs": [],
   "source": [
    "random_search.best_params_"
   ]
  },
  {
   "cell_type": "code",
   "execution_count": null,
   "id": "66416bc0",
   "metadata": {},
   "outputs": [],
   "source": [
    "#fitting the model with best params to find feature importance\n",
    "import xgboost as xgb\n",
    "xgb1 = xgb.XGBClassifier(n_estimators=600, learning_rate=0.05, nthread=-1,subsample=0.6,min_child_weight=10,gamma=1,colsample_bytree=0.6)"
   ]
  },
  {
   "cell_type": "code",
   "execution_count": null,
   "id": "5561eb2a",
   "metadata": {},
   "outputs": [],
   "source": [
    "xgb1.fit(x_train,y_train)"
   ]
  },
  {
   "cell_type": "code",
   "execution_count": null,
   "id": "1ae738de",
   "metadata": {},
   "outputs": [],
   "source": [
    "plt.figure(figsize=(20,10))\n",
    "xgb=plot_importance(xgb1, max_num_features=10)"
   ]
  },
  {
   "cell_type": "code",
   "execution_count": null,
   "id": "7211ff88",
   "metadata": {},
   "outputs": [],
   "source": [
    "xgb_pred=random_search.predict(x_test)\n",
    "xgb_train=random_search.predict(x_train)\n",
    "accuracy_xgb=accuracy_score(xgb_pred,y_test)\n",
    "accuracy_train=accuracy_score(xgb_train,y_train)"
   ]
  },
  {
   "cell_type": "code",
   "execution_count": null,
   "id": "5e1c41a9",
   "metadata": {},
   "outputs": [],
   "source": [
    "accuracy_xgb"
   ]
  },
  {
   "cell_type": "code",
   "execution_count": null,
   "id": "768b1c78",
   "metadata": {},
   "outputs": [],
   "source": [
    "\n",
    "xgb_probs = random_search.predict_proba(x_test)\n",
    "# keep probabilities for the positive outcome only\n",
    "xgb_probs = xgb_probs[:, 1]\n",
    "# calculate scores\n",
    "lr_auc = roc_auc_score(y_test, xgb_probs)\n",
    "# summarize scores\n",
    "print('No Skill: ROC AUC=%.3f' % (ns_auc))\n",
    "print('Logistic: ROC AUC=%.3f' % (lr_auc))\n",
    "# calculate roc curves\n",
    "ns_fpr, ns_tpr, _ = roc_curve(y_test, ns_probs)\n",
    "xgb_fpr, xgb_tpr, _ = roc_curve(y_test, lr_probs)"
   ]
  },
  {
   "cell_type": "code",
   "execution_count": null,
   "id": "fd9731ff",
   "metadata": {},
   "outputs": [],
   "source": [
    "pyplot.plot(ns_fpr, ns_tpr, linestyle='--', label='No Skill')\n",
    "pyplot.plot(xgb_fpr, xgb_tpr, marker='.', label='XGBoost')\n",
    "# axis labels\n",
    "pyplot.xlabel('False Positive Rate')\n",
    "pyplot.ylabel('True Positive Rate')\n",
    "# show the legend\n",
    "pyplot.legend()\n",
    "# show the plot\n",
    "pyplot.show()"
   ]
  },
  {
   "cell_type": "code",
   "execution_count": null,
   "id": "99964b03",
   "metadata": {},
   "outputs": [],
   "source": []
  }
 ],
 "metadata": {
  "kernelspec": {
   "display_name": "Python 3",
   "language": "python",
   "name": "python3"
  },
  "language_info": {
   "codemirror_mode": {
    "name": "ipython",
    "version": 3
   },
   "file_extension": ".py",
   "mimetype": "text/x-python",
   "name": "python",
   "nbconvert_exporter": "python",
   "pygments_lexer": "ipython3",
   "version": "3.8.8"
  }
 },
 "nbformat": 4,
 "nbformat_minor": 5
}
